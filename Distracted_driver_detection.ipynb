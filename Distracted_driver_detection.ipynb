{
  "nbformat": 4,
  "nbformat_minor": 0,
  "metadata": {
    "colab": {
      "name": "Distracted_driver_detection.ipynb",
      "provenance": [],
      "collapsed_sections": []
    },
    "kernelspec": {
      "name": "python3",
      "display_name": "Python 3"
    },
    "language_info": {
      "name": "python"
    },
    "accelerator": "GPU"
  },
  "cells": [
    {
      "cell_type": "markdown",
      "source": [
        "## Business understanding:\n",
        "\n",
        "- From a report from the CDC motor vehicle safety division, one in five car accidents is caused by a distracted driver. This has just become like drunken driving. Almost 425,000 people injured and 3,000 people killed by distracted driving every year.\n",
        "\n",
        "- We are aimimg to improve the alarming statistics caused by the distracted driving, by testing whether dashboard cameras can automatically detect drivers engaging in distracted behaviors.\n",
        "State Farm insurance company has given us a dataset of 2D dashboard camera images, and we need to develop an algorithm to detect and classify driver's behaviour and check if they are driving attentively or not.\n",
        "We are trying to create machine learning algorithms and deep learning arhitecture to create models and predict and classify them by training them on the given datset."
      ],
      "metadata": {
        "id": "NArLtXFVG6sO"
      }
    },
    {
      "cell_type": "code",
      "source": [
        "# downloading the data from kaggle into colab using curlwget web extension for faster downloads and uploads\n",
        "# this link is generated everytime we download a dataset, so if needed generate a new link using steps given in read me file\n",
        "! wget --header=\"Host: storage.googleapis.com\" --header=\"User-Agent: Mozilla/5.0 (Windows NT 10.0; Win64; x64) AppleWebKit/537.36 (KHTML, like Gecko) Chrome/97.0.4692.71 Safari/537.36\" --header=\"Accept: text/html,application/xhtml+xml,application/xml;q=0.9,image/avif,image/webp,image/apng,*/*;q=0.8,application/signed-exchange;v=b3;q=0.9\" --header=\"Accept-Language: en-US,en;q=0.9\" --header=\"Referer: https://www.kaggle.com/\" \"https://storage.googleapis.com/kaggle-competitions-data/kaggle-v2/5048/868335/bundle/archive.zip?GoogleAccessId=web-data@kaggle-161607.iam.gserviceaccount.com&Expires=1642533115&Signature=FwZoqBTWbLi88uTgHixxtlkGZ4Oa7yv0mpJZQB0k0Obwqg8hTVOIY1Toc1%2FuBjQfXRq9yLxox3l0mg3CQZ5lUGnetegvKFfnSiGVrlDKgRBBn%2BFRXtqWJ2aIDU20Qg%2BAd8Qopo7UyVIfLVr2A9n7hLL5sStUeA6gL%2BbJVpPMYEQDTBtrMP1hklx1Fjl4CbKLwiLevBLVI8RN42a1HmXQb2jlDhDZjeF7foysLEGqk6tgO0PzVypQwFWwzghtgWO%2FzaOTxhJygF8gyyHI%2BEBTgWkkWo%2F%2Ftekc5gbaUko3tzwWu9Wo8fV6wXU%2BMZ0kLL3I8yOrfQmVMB984gICV0ct6A%3D%3D&response-content-disposition=attachment%3B+filename%3Dstate-farm-distracted-driver-detection.zip\" -c -O 'state-farm-distracted-driver-detection.zip'"
      ],
      "metadata": {
        "id": "gI2kk7GOJ7jy"
      },
      "execution_count": null,
      "outputs": []
    },
    {
      "cell_type": "code",
      "source": [
        ""
      ],
      "metadata": {
        "id": "QUSRp092wfWN"
      },
      "execution_count": null,
      "outputs": []
    },
    {
      "cell_type": "code",
      "source": [
        "# Unzipping the image files\n",
        "!unzip state-farm-distracted-driver-detection"
      ],
      "metadata": {
        "id": "AakbvaKjwCp3"
      },
      "execution_count": null,
      "outputs": []
    },
    {
      "cell_type": "code",
      "source": [
        "# Importing all the required libraries\n",
        "import numpy as np\n",
        "import pandas as pd\n",
        "import matplotlib.pyplot as plt\n",
        "import seaborn as sns\n",
        "from keras.models import Sequential\n",
        "from keras_preprocessing.image import ImageDataGenerator\n",
        "from keras.layers import Dense, Activation, Flatten, Dropout, BatchNormalization\n",
        "from keras.layers import Conv2D, MaxPooling2D\n",
        "from keras import regularizers\n",
        "from tensorflow.keras import optimizers\n",
        "import tensorflow as tf\n",
        "from keras.applications.vgg16 import VGG16\n",
        "from tensorflow.keras.optimizers import Adam, SGD\n",
        "from tensorflow.keras.applications.inception_v3 import InceptionV3\n",
        "from tensorflow.keras.initializers import GlorotNormal\n",
        "from tensorflow.keras.models import Model\n",
        "from tensorflow.keras.models import load_model\n",
        "from sklearn import metrics"
      ],
      "metadata": {
        "id": "QzTHk5AuCk6a"
      },
      "execution_count": null,
      "outputs": []
    },
    {
      "cell_type": "code",
      "source": [
        ""
      ],
      "metadata": {
        "id": "fdwpkKTSCk3F"
      },
      "execution_count": null,
      "outputs": []
    },
    {
      "cell_type": "code",
      "source": [
        ""
      ],
      "metadata": {
        "id": "GLyzaHMYCk0L"
      },
      "execution_count": null,
      "outputs": []
    },
    {
      "cell_type": "markdown",
      "source": [
        "## EDA:"
      ],
      "metadata": {
        "id": "FspFIoxy61x5"
      }
    },
    {
      "cell_type": "code",
      "source": [
        "#reading the csv file containing subject Id, class name and image name\n",
        "df = pd.read_csv(\"/content/driver_imgs_list.csv\")"
      ],
      "metadata": {
        "id": "gpqzXH8leGek"
      },
      "execution_count": null,
      "outputs": []
    },
    {
      "cell_type": "code",
      "source": [
        "# printing the first 5 rows\n",
        "df.head()"
      ],
      "metadata": {
        "colab": {
          "base_uri": "https://localhost:8080/",
          "height": 206
        },
        "id": "CgDD93pY3VOK",
        "outputId": "6341c68f-d857-43ab-dcb3-8d5454614041"
      },
      "execution_count": null,
      "outputs": [
        {
          "output_type": "execute_result",
          "data": {
            "text/html": [
              "\n",
              "  <div id=\"df-3b8c23f5-b199-49a4-ad7b-3edf8da5e353\">\n",
              "    <div class=\"colab-df-container\">\n",
              "      <div>\n",
              "<style scoped>\n",
              "    .dataframe tbody tr th:only-of-type {\n",
              "        vertical-align: middle;\n",
              "    }\n",
              "\n",
              "    .dataframe tbody tr th {\n",
              "        vertical-align: top;\n",
              "    }\n",
              "\n",
              "    .dataframe thead th {\n",
              "        text-align: right;\n",
              "    }\n",
              "</style>\n",
              "<table border=\"1\" class=\"dataframe\">\n",
              "  <thead>\n",
              "    <tr style=\"text-align: right;\">\n",
              "      <th></th>\n",
              "      <th>subject</th>\n",
              "      <th>classname</th>\n",
              "      <th>img</th>\n",
              "    </tr>\n",
              "  </thead>\n",
              "  <tbody>\n",
              "    <tr>\n",
              "      <th>0</th>\n",
              "      <td>p002</td>\n",
              "      <td>c0</td>\n",
              "      <td>img_44733.jpg</td>\n",
              "    </tr>\n",
              "    <tr>\n",
              "      <th>1</th>\n",
              "      <td>p002</td>\n",
              "      <td>c0</td>\n",
              "      <td>img_72999.jpg</td>\n",
              "    </tr>\n",
              "    <tr>\n",
              "      <th>2</th>\n",
              "      <td>p002</td>\n",
              "      <td>c0</td>\n",
              "      <td>img_25094.jpg</td>\n",
              "    </tr>\n",
              "    <tr>\n",
              "      <th>3</th>\n",
              "      <td>p002</td>\n",
              "      <td>c0</td>\n",
              "      <td>img_69092.jpg</td>\n",
              "    </tr>\n",
              "    <tr>\n",
              "      <th>4</th>\n",
              "      <td>p002</td>\n",
              "      <td>c0</td>\n",
              "      <td>img_92629.jpg</td>\n",
              "    </tr>\n",
              "  </tbody>\n",
              "</table>\n",
              "</div>\n",
              "      <button class=\"colab-df-convert\" onclick=\"convertToInteractive('df-3b8c23f5-b199-49a4-ad7b-3edf8da5e353')\"\n",
              "              title=\"Convert this dataframe to an interactive table.\"\n",
              "              style=\"display:none;\">\n",
              "        \n",
              "  <svg xmlns=\"http://www.w3.org/2000/svg\" height=\"24px\"viewBox=\"0 0 24 24\"\n",
              "       width=\"24px\">\n",
              "    <path d=\"M0 0h24v24H0V0z\" fill=\"none\"/>\n",
              "    <path d=\"M18.56 5.44l.94 2.06.94-2.06 2.06-.94-2.06-.94-.94-2.06-.94 2.06-2.06.94zm-11 1L8.5 8.5l.94-2.06 2.06-.94-2.06-.94L8.5 2.5l-.94 2.06-2.06.94zm10 10l.94 2.06.94-2.06 2.06-.94-2.06-.94-.94-2.06-.94 2.06-2.06.94z\"/><path d=\"M17.41 7.96l-1.37-1.37c-.4-.4-.92-.59-1.43-.59-.52 0-1.04.2-1.43.59L10.3 9.45l-7.72 7.72c-.78.78-.78 2.05 0 2.83L4 21.41c.39.39.9.59 1.41.59.51 0 1.02-.2 1.41-.59l7.78-7.78 2.81-2.81c.8-.78.8-2.07 0-2.86zM5.41 20L4 18.59l7.72-7.72 1.47 1.35L5.41 20z\"/>\n",
              "  </svg>\n",
              "      </button>\n",
              "      \n",
              "  <style>\n",
              "    .colab-df-container {\n",
              "      display:flex;\n",
              "      flex-wrap:wrap;\n",
              "      gap: 12px;\n",
              "    }\n",
              "\n",
              "    .colab-df-convert {\n",
              "      background-color: #E8F0FE;\n",
              "      border: none;\n",
              "      border-radius: 50%;\n",
              "      cursor: pointer;\n",
              "      display: none;\n",
              "      fill: #1967D2;\n",
              "      height: 32px;\n",
              "      padding: 0 0 0 0;\n",
              "      width: 32px;\n",
              "    }\n",
              "\n",
              "    .colab-df-convert:hover {\n",
              "      background-color: #E2EBFA;\n",
              "      box-shadow: 0px 1px 2px rgba(60, 64, 67, 0.3), 0px 1px 3px 1px rgba(60, 64, 67, 0.15);\n",
              "      fill: #174EA6;\n",
              "    }\n",
              "\n",
              "    [theme=dark] .colab-df-convert {\n",
              "      background-color: #3B4455;\n",
              "      fill: #D2E3FC;\n",
              "    }\n",
              "\n",
              "    [theme=dark] .colab-df-convert:hover {\n",
              "      background-color: #434B5C;\n",
              "      box-shadow: 0px 1px 3px 1px rgba(0, 0, 0, 0.15);\n",
              "      filter: drop-shadow(0px 1px 2px rgba(0, 0, 0, 0.3));\n",
              "      fill: #FFFFFF;\n",
              "    }\n",
              "  </style>\n",
              "\n",
              "      <script>\n",
              "        const buttonEl =\n",
              "          document.querySelector('#df-3b8c23f5-b199-49a4-ad7b-3edf8da5e353 button.colab-df-convert');\n",
              "        buttonEl.style.display =\n",
              "          google.colab.kernel.accessAllowed ? 'block' : 'none';\n",
              "\n",
              "        async function convertToInteractive(key) {\n",
              "          const element = document.querySelector('#df-3b8c23f5-b199-49a4-ad7b-3edf8da5e353');\n",
              "          const dataTable =\n",
              "            await google.colab.kernel.invokeFunction('convertToInteractive',\n",
              "                                                     [key], {});\n",
              "          if (!dataTable) return;\n",
              "\n",
              "          const docLinkHtml = 'Like what you see? Visit the ' +\n",
              "            '<a target=\"_blank\" href=https://colab.research.google.com/notebooks/data_table.ipynb>data table notebook</a>'\n",
              "            + ' to learn more about interactive tables.';\n",
              "          element.innerHTML = '';\n",
              "          dataTable['output_type'] = 'display_data';\n",
              "          await google.colab.output.renderOutput(dataTable, element);\n",
              "          const docLink = document.createElement('div');\n",
              "          docLink.innerHTML = docLinkHtml;\n",
              "          element.appendChild(docLink);\n",
              "        }\n",
              "      </script>\n",
              "    </div>\n",
              "  </div>\n",
              "  "
            ],
            "text/plain": [
              "  subject classname            img\n",
              "0    p002        c0  img_44733.jpg\n",
              "1    p002        c0  img_72999.jpg\n",
              "2    p002        c0  img_25094.jpg\n",
              "3    p002        c0  img_69092.jpg\n",
              "4    p002        c0  img_92629.jpg"
            ]
          },
          "metadata": {},
          "execution_count": 6
        }
      ]
    },
    {
      "cell_type": "code",
      "source": [
        "# appending class name with image name to make it suitable for image data generator\n",
        "df[\"img\"] = df[\"classname\"] + \"/\" + df[\"img\"]"
      ],
      "metadata": {
        "id": "hL6GwqkG9yXS"
      },
      "execution_count": null,
      "outputs": []
    },
    {
      "cell_type": "code",
      "source": [
        "df.head()"
      ],
      "metadata": {
        "colab": {
          "base_uri": "https://localhost:8080/",
          "height": 206
        },
        "id": "2OKu_Mcl9yTl",
        "outputId": "ea25e0a7-8a93-41e7-937c-a7db4bb9187a"
      },
      "execution_count": null,
      "outputs": [
        {
          "output_type": "execute_result",
          "data": {
            "text/html": [
              "\n",
              "  <div id=\"df-4f5145fd-e739-4720-9662-9c0e33294357\">\n",
              "    <div class=\"colab-df-container\">\n",
              "      <div>\n",
              "<style scoped>\n",
              "    .dataframe tbody tr th:only-of-type {\n",
              "        vertical-align: middle;\n",
              "    }\n",
              "\n",
              "    .dataframe tbody tr th {\n",
              "        vertical-align: top;\n",
              "    }\n",
              "\n",
              "    .dataframe thead th {\n",
              "        text-align: right;\n",
              "    }\n",
              "</style>\n",
              "<table border=\"1\" class=\"dataframe\">\n",
              "  <thead>\n",
              "    <tr style=\"text-align: right;\">\n",
              "      <th></th>\n",
              "      <th>subject</th>\n",
              "      <th>classname</th>\n",
              "      <th>img</th>\n",
              "    </tr>\n",
              "  </thead>\n",
              "  <tbody>\n",
              "    <tr>\n",
              "      <th>0</th>\n",
              "      <td>p002</td>\n",
              "      <td>c0</td>\n",
              "      <td>c0/img_44733.jpg</td>\n",
              "    </tr>\n",
              "    <tr>\n",
              "      <th>1</th>\n",
              "      <td>p002</td>\n",
              "      <td>c0</td>\n",
              "      <td>c0/img_72999.jpg</td>\n",
              "    </tr>\n",
              "    <tr>\n",
              "      <th>2</th>\n",
              "      <td>p002</td>\n",
              "      <td>c0</td>\n",
              "      <td>c0/img_25094.jpg</td>\n",
              "    </tr>\n",
              "    <tr>\n",
              "      <th>3</th>\n",
              "      <td>p002</td>\n",
              "      <td>c0</td>\n",
              "      <td>c0/img_69092.jpg</td>\n",
              "    </tr>\n",
              "    <tr>\n",
              "      <th>4</th>\n",
              "      <td>p002</td>\n",
              "      <td>c0</td>\n",
              "      <td>c0/img_92629.jpg</td>\n",
              "    </tr>\n",
              "  </tbody>\n",
              "</table>\n",
              "</div>\n",
              "      <button class=\"colab-df-convert\" onclick=\"convertToInteractive('df-4f5145fd-e739-4720-9662-9c0e33294357')\"\n",
              "              title=\"Convert this dataframe to an interactive table.\"\n",
              "              style=\"display:none;\">\n",
              "        \n",
              "  <svg xmlns=\"http://www.w3.org/2000/svg\" height=\"24px\"viewBox=\"0 0 24 24\"\n",
              "       width=\"24px\">\n",
              "    <path d=\"M0 0h24v24H0V0z\" fill=\"none\"/>\n",
              "    <path d=\"M18.56 5.44l.94 2.06.94-2.06 2.06-.94-2.06-.94-.94-2.06-.94 2.06-2.06.94zm-11 1L8.5 8.5l.94-2.06 2.06-.94-2.06-.94L8.5 2.5l-.94 2.06-2.06.94zm10 10l.94 2.06.94-2.06 2.06-.94-2.06-.94-.94-2.06-.94 2.06-2.06.94z\"/><path d=\"M17.41 7.96l-1.37-1.37c-.4-.4-.92-.59-1.43-.59-.52 0-1.04.2-1.43.59L10.3 9.45l-7.72 7.72c-.78.78-.78 2.05 0 2.83L4 21.41c.39.39.9.59 1.41.59.51 0 1.02-.2 1.41-.59l7.78-7.78 2.81-2.81c.8-.78.8-2.07 0-2.86zM5.41 20L4 18.59l7.72-7.72 1.47 1.35L5.41 20z\"/>\n",
              "  </svg>\n",
              "      </button>\n",
              "      \n",
              "  <style>\n",
              "    .colab-df-container {\n",
              "      display:flex;\n",
              "      flex-wrap:wrap;\n",
              "      gap: 12px;\n",
              "    }\n",
              "\n",
              "    .colab-df-convert {\n",
              "      background-color: #E8F0FE;\n",
              "      border: none;\n",
              "      border-radius: 50%;\n",
              "      cursor: pointer;\n",
              "      display: none;\n",
              "      fill: #1967D2;\n",
              "      height: 32px;\n",
              "      padding: 0 0 0 0;\n",
              "      width: 32px;\n",
              "    }\n",
              "\n",
              "    .colab-df-convert:hover {\n",
              "      background-color: #E2EBFA;\n",
              "      box-shadow: 0px 1px 2px rgba(60, 64, 67, 0.3), 0px 1px 3px 1px rgba(60, 64, 67, 0.15);\n",
              "      fill: #174EA6;\n",
              "    }\n",
              "\n",
              "    [theme=dark] .colab-df-convert {\n",
              "      background-color: #3B4455;\n",
              "      fill: #D2E3FC;\n",
              "    }\n",
              "\n",
              "    [theme=dark] .colab-df-convert:hover {\n",
              "      background-color: #434B5C;\n",
              "      box-shadow: 0px 1px 3px 1px rgba(0, 0, 0, 0.15);\n",
              "      filter: drop-shadow(0px 1px 2px rgba(0, 0, 0, 0.3));\n",
              "      fill: #FFFFFF;\n",
              "    }\n",
              "  </style>\n",
              "\n",
              "      <script>\n",
              "        const buttonEl =\n",
              "          document.querySelector('#df-4f5145fd-e739-4720-9662-9c0e33294357 button.colab-df-convert');\n",
              "        buttonEl.style.display =\n",
              "          google.colab.kernel.accessAllowed ? 'block' : 'none';\n",
              "\n",
              "        async function convertToInteractive(key) {\n",
              "          const element = document.querySelector('#df-4f5145fd-e739-4720-9662-9c0e33294357');\n",
              "          const dataTable =\n",
              "            await google.colab.kernel.invokeFunction('convertToInteractive',\n",
              "                                                     [key], {});\n",
              "          if (!dataTable) return;\n",
              "\n",
              "          const docLinkHtml = 'Like what you see? Visit the ' +\n",
              "            '<a target=\"_blank\" href=https://colab.research.google.com/notebooks/data_table.ipynb>data table notebook</a>'\n",
              "            + ' to learn more about interactive tables.';\n",
              "          element.innerHTML = '';\n",
              "          dataTable['output_type'] = 'display_data';\n",
              "          await google.colab.output.renderOutput(dataTable, element);\n",
              "          const docLink = document.createElement('div');\n",
              "          docLink.innerHTML = docLinkHtml;\n",
              "          element.appendChild(docLink);\n",
              "        }\n",
              "      </script>\n",
              "    </div>\n",
              "  </div>\n",
              "  "
            ],
            "text/plain": [
              "  subject classname               img\n",
              "0    p002        c0  c0/img_44733.jpg\n",
              "1    p002        c0  c0/img_72999.jpg\n",
              "2    p002        c0  c0/img_25094.jpg\n",
              "3    p002        c0  c0/img_69092.jpg\n",
              "4    p002        c0  c0/img_92629.jpg"
            ]
          },
          "metadata": {},
          "execution_count": 8
        }
      ]
    },
    {
      "cell_type": "code",
      "source": [
        ""
      ],
      "metadata": {
        "id": "VIvyYZxe9yQy"
      },
      "execution_count": null,
      "outputs": []
    },
    {
      "cell_type": "code",
      "source": [
        "# count of each subject ID\n",
        "df[\"subject\"].value_counts()"
      ],
      "metadata": {
        "colab": {
          "base_uri": "https://localhost:8080/"
        },
        "id": "InRwrwgq69kh",
        "outputId": "5ca3f7de-3f5c-47c7-ac78-4a38c903389d"
      },
      "execution_count": null,
      "outputs": [
        {
          "output_type": "execute_result",
          "data": {
            "text/plain": [
              "p021    1237\n",
              "p022    1233\n",
              "p024    1226\n",
              "p026    1196\n",
              "p016    1078\n",
              "p066    1034\n",
              "p049    1011\n",
              "p051     920\n",
              "p014     876\n",
              "p015     875\n",
              "p035     848\n",
              "p047     835\n",
              "p081     823\n",
              "p012     823\n",
              "p064     820\n",
              "p075     814\n",
              "p061     809\n",
              "p056     794\n",
              "p050     790\n",
              "p052     740\n",
              "p002     725\n",
              "p045     724\n",
              "p039     651\n",
              "p041     605\n",
              "p042     591\n",
              "p072     346\n",
              "Name: subject, dtype: int64"
            ]
          },
          "metadata": {},
          "execution_count": 9
        }
      ]
    },
    {
      "cell_type": "code",
      "source": [
        "# creating a list for the subject IDs that will be our test data\n",
        "list1 = [\"p066\",\"p035\",\"p002\",\"p041\" ]"
      ],
      "metadata": {
        "id": "B9zFgOg669g0"
      },
      "execution_count": null,
      "outputs": []
    },
    {
      "cell_type": "code",
      "source": [
        "# creating test dataset\n",
        "test = df.loc[df[\"subject\"].isin(list1)]"
      ],
      "metadata": {
        "id": "Sd1RrbPs69fF"
      },
      "execution_count": null,
      "outputs": []
    },
    {
      "cell_type": "code",
      "source": [
        "# creating test dataframe\n",
        "train = df.loc[~df[\"subject\"].isin(list1)]"
      ],
      "metadata": {
        "id": "VTAOfAj99DtP"
      },
      "execution_count": null,
      "outputs": []
    },
    {
      "cell_type": "code",
      "source": [
        "# checking the dimension of test dataset\n",
        "test.shape"
      ],
      "metadata": {
        "colab": {
          "base_uri": "https://localhost:8080/"
        },
        "id": "BDlGd-AE9gdn",
        "outputId": "5c4b2d14-b903-491d-ff3d-3ee23aa0858a"
      },
      "execution_count": null,
      "outputs": [
        {
          "output_type": "execute_result",
          "data": {
            "text/plain": [
              "(3212, 3)"
            ]
          },
          "metadata": {},
          "execution_count": 13
        }
      ]
    },
    {
      "cell_type": "code",
      "source": [
        "# checking the dimension of train dataset\n",
        "\n",
        "train.shape"
      ],
      "metadata": {
        "colab": {
          "base_uri": "https://localhost:8080/"
        },
        "id": "xHmThSYR9gaP",
        "outputId": "623a2e14-7e18-46cd-f787-590a2a24fead"
      },
      "execution_count": null,
      "outputs": [
        {
          "output_type": "execute_result",
          "data": {
            "text/plain": [
              "(19212, 3)"
            ]
          },
          "metadata": {},
          "execution_count": 14
        }
      ]
    },
    {
      "cell_type": "code",
      "source": [
        "# printing first 5 rows of test dataframe\n",
        "test.head()"
      ],
      "metadata": {
        "colab": {
          "base_uri": "https://localhost:8080/",
          "height": 206
        },
        "id": "GCoDbEge9gXQ",
        "outputId": "e10c177c-3321-4bcc-c166-15aa43fb129c"
      },
      "execution_count": null,
      "outputs": [
        {
          "output_type": "execute_result",
          "data": {
            "text/html": [
              "\n",
              "  <div id=\"df-def11fe2-490e-4fe3-b5dd-5f7661fefbb8\">\n",
              "    <div class=\"colab-df-container\">\n",
              "      <div>\n",
              "<style scoped>\n",
              "    .dataframe tbody tr th:only-of-type {\n",
              "        vertical-align: middle;\n",
              "    }\n",
              "\n",
              "    .dataframe tbody tr th {\n",
              "        vertical-align: top;\n",
              "    }\n",
              "\n",
              "    .dataframe thead th {\n",
              "        text-align: right;\n",
              "    }\n",
              "</style>\n",
              "<table border=\"1\" class=\"dataframe\">\n",
              "  <thead>\n",
              "    <tr style=\"text-align: right;\">\n",
              "      <th></th>\n",
              "      <th>subject</th>\n",
              "      <th>classname</th>\n",
              "      <th>img</th>\n",
              "    </tr>\n",
              "  </thead>\n",
              "  <tbody>\n",
              "    <tr>\n",
              "      <th>0</th>\n",
              "      <td>p002</td>\n",
              "      <td>c0</td>\n",
              "      <td>c0/img_44733.jpg</td>\n",
              "    </tr>\n",
              "    <tr>\n",
              "      <th>1</th>\n",
              "      <td>p002</td>\n",
              "      <td>c0</td>\n",
              "      <td>c0/img_72999.jpg</td>\n",
              "    </tr>\n",
              "    <tr>\n",
              "      <th>2</th>\n",
              "      <td>p002</td>\n",
              "      <td>c0</td>\n",
              "      <td>c0/img_25094.jpg</td>\n",
              "    </tr>\n",
              "    <tr>\n",
              "      <th>3</th>\n",
              "      <td>p002</td>\n",
              "      <td>c0</td>\n",
              "      <td>c0/img_69092.jpg</td>\n",
              "    </tr>\n",
              "    <tr>\n",
              "      <th>4</th>\n",
              "      <td>p002</td>\n",
              "      <td>c0</td>\n",
              "      <td>c0/img_92629.jpg</td>\n",
              "    </tr>\n",
              "  </tbody>\n",
              "</table>\n",
              "</div>\n",
              "      <button class=\"colab-df-convert\" onclick=\"convertToInteractive('df-def11fe2-490e-4fe3-b5dd-5f7661fefbb8')\"\n",
              "              title=\"Convert this dataframe to an interactive table.\"\n",
              "              style=\"display:none;\">\n",
              "        \n",
              "  <svg xmlns=\"http://www.w3.org/2000/svg\" height=\"24px\"viewBox=\"0 0 24 24\"\n",
              "       width=\"24px\">\n",
              "    <path d=\"M0 0h24v24H0V0z\" fill=\"none\"/>\n",
              "    <path d=\"M18.56 5.44l.94 2.06.94-2.06 2.06-.94-2.06-.94-.94-2.06-.94 2.06-2.06.94zm-11 1L8.5 8.5l.94-2.06 2.06-.94-2.06-.94L8.5 2.5l-.94 2.06-2.06.94zm10 10l.94 2.06.94-2.06 2.06-.94-2.06-.94-.94-2.06-.94 2.06-2.06.94z\"/><path d=\"M17.41 7.96l-1.37-1.37c-.4-.4-.92-.59-1.43-.59-.52 0-1.04.2-1.43.59L10.3 9.45l-7.72 7.72c-.78.78-.78 2.05 0 2.83L4 21.41c.39.39.9.59 1.41.59.51 0 1.02-.2 1.41-.59l7.78-7.78 2.81-2.81c.8-.78.8-2.07 0-2.86zM5.41 20L4 18.59l7.72-7.72 1.47 1.35L5.41 20z\"/>\n",
              "  </svg>\n",
              "      </button>\n",
              "      \n",
              "  <style>\n",
              "    .colab-df-container {\n",
              "      display:flex;\n",
              "      flex-wrap:wrap;\n",
              "      gap: 12px;\n",
              "    }\n",
              "\n",
              "    .colab-df-convert {\n",
              "      background-color: #E8F0FE;\n",
              "      border: none;\n",
              "      border-radius: 50%;\n",
              "      cursor: pointer;\n",
              "      display: none;\n",
              "      fill: #1967D2;\n",
              "      height: 32px;\n",
              "      padding: 0 0 0 0;\n",
              "      width: 32px;\n",
              "    }\n",
              "\n",
              "    .colab-df-convert:hover {\n",
              "      background-color: #E2EBFA;\n",
              "      box-shadow: 0px 1px 2px rgba(60, 64, 67, 0.3), 0px 1px 3px 1px rgba(60, 64, 67, 0.15);\n",
              "      fill: #174EA6;\n",
              "    }\n",
              "\n",
              "    [theme=dark] .colab-df-convert {\n",
              "      background-color: #3B4455;\n",
              "      fill: #D2E3FC;\n",
              "    }\n",
              "\n",
              "    [theme=dark] .colab-df-convert:hover {\n",
              "      background-color: #434B5C;\n",
              "      box-shadow: 0px 1px 3px 1px rgba(0, 0, 0, 0.15);\n",
              "      filter: drop-shadow(0px 1px 2px rgba(0, 0, 0, 0.3));\n",
              "      fill: #FFFFFF;\n",
              "    }\n",
              "  </style>\n",
              "\n",
              "      <script>\n",
              "        const buttonEl =\n",
              "          document.querySelector('#df-def11fe2-490e-4fe3-b5dd-5f7661fefbb8 button.colab-df-convert');\n",
              "        buttonEl.style.display =\n",
              "          google.colab.kernel.accessAllowed ? 'block' : 'none';\n",
              "\n",
              "        async function convertToInteractive(key) {\n",
              "          const element = document.querySelector('#df-def11fe2-490e-4fe3-b5dd-5f7661fefbb8');\n",
              "          const dataTable =\n",
              "            await google.colab.kernel.invokeFunction('convertToInteractive',\n",
              "                                                     [key], {});\n",
              "          if (!dataTable) return;\n",
              "\n",
              "          const docLinkHtml = 'Like what you see? Visit the ' +\n",
              "            '<a target=\"_blank\" href=https://colab.research.google.com/notebooks/data_table.ipynb>data table notebook</a>'\n",
              "            + ' to learn more about interactive tables.';\n",
              "          element.innerHTML = '';\n",
              "          dataTable['output_type'] = 'display_data';\n",
              "          await google.colab.output.renderOutput(dataTable, element);\n",
              "          const docLink = document.createElement('div');\n",
              "          docLink.innerHTML = docLinkHtml;\n",
              "          element.appendChild(docLink);\n",
              "        }\n",
              "      </script>\n",
              "    </div>\n",
              "  </div>\n",
              "  "
            ],
            "text/plain": [
              "  subject classname               img\n",
              "0    p002        c0  c0/img_44733.jpg\n",
              "1    p002        c0  c0/img_72999.jpg\n",
              "2    p002        c0  c0/img_25094.jpg\n",
              "3    p002        c0  c0/img_69092.jpg\n",
              "4    p002        c0  c0/img_92629.jpg"
            ]
          },
          "metadata": {},
          "execution_count": 15
        }
      ]
    },
    {
      "cell_type": "code",
      "source": [
        "# deleting the subject ID column from test data frame \n",
        "del test[\"subject\"]"
      ],
      "metadata": {
        "id": "bnJfLvAZ__bm"
      },
      "execution_count": null,
      "outputs": []
    },
    {
      "cell_type": "code",
      "source": [
        "# deleting the subject ID column from train data frame \n",
        "del train[\"subject\"]"
      ],
      "metadata": {
        "id": "q2W4jc5wAelZ"
      },
      "execution_count": null,
      "outputs": []
    },
    {
      "cell_type": "code",
      "source": [
        ""
      ],
      "metadata": {
        "id": "F7dFhg5NC4w3"
      },
      "execution_count": null,
      "outputs": []
    },
    {
      "cell_type": "code",
      "source": [
        "train.head()"
      ],
      "metadata": {
        "colab": {
          "base_uri": "https://localhost:8080/",
          "height": 206
        },
        "id": "TWy_Wwdie6Eu",
        "outputId": "608b87fd-0d7a-4dc6-9896-ad2076eb4d87"
      },
      "execution_count": null,
      "outputs": [
        {
          "output_type": "execute_result",
          "data": {
            "text/html": [
              "\n",
              "  <div id=\"df-bd34f1d4-8895-48b2-81a4-c2764cfd449f\">\n",
              "    <div class=\"colab-df-container\">\n",
              "      <div>\n",
              "<style scoped>\n",
              "    .dataframe tbody tr th:only-of-type {\n",
              "        vertical-align: middle;\n",
              "    }\n",
              "\n",
              "    .dataframe tbody tr th {\n",
              "        vertical-align: top;\n",
              "    }\n",
              "\n",
              "    .dataframe thead th {\n",
              "        text-align: right;\n",
              "    }\n",
              "</style>\n",
              "<table border=\"1\" class=\"dataframe\">\n",
              "  <thead>\n",
              "    <tr style=\"text-align: right;\">\n",
              "      <th></th>\n",
              "      <th>classname</th>\n",
              "      <th>img</th>\n",
              "    </tr>\n",
              "  </thead>\n",
              "  <tbody>\n",
              "    <tr>\n",
              "      <th>725</th>\n",
              "      <td>c0</td>\n",
              "      <td>c0/img_10206.jpg</td>\n",
              "    </tr>\n",
              "    <tr>\n",
              "      <th>726</th>\n",
              "      <td>c0</td>\n",
              "      <td>c0/img_27079.jpg</td>\n",
              "    </tr>\n",
              "    <tr>\n",
              "      <th>727</th>\n",
              "      <td>c0</td>\n",
              "      <td>c0/img_50749.jpg</td>\n",
              "    </tr>\n",
              "    <tr>\n",
              "      <th>728</th>\n",
              "      <td>c0</td>\n",
              "      <td>c0/img_97089.jpg</td>\n",
              "    </tr>\n",
              "    <tr>\n",
              "      <th>729</th>\n",
              "      <td>c0</td>\n",
              "      <td>c0/img_37741.jpg</td>\n",
              "    </tr>\n",
              "  </tbody>\n",
              "</table>\n",
              "</div>\n",
              "      <button class=\"colab-df-convert\" onclick=\"convertToInteractive('df-bd34f1d4-8895-48b2-81a4-c2764cfd449f')\"\n",
              "              title=\"Convert this dataframe to an interactive table.\"\n",
              "              style=\"display:none;\">\n",
              "        \n",
              "  <svg xmlns=\"http://www.w3.org/2000/svg\" height=\"24px\"viewBox=\"0 0 24 24\"\n",
              "       width=\"24px\">\n",
              "    <path d=\"M0 0h24v24H0V0z\" fill=\"none\"/>\n",
              "    <path d=\"M18.56 5.44l.94 2.06.94-2.06 2.06-.94-2.06-.94-.94-2.06-.94 2.06-2.06.94zm-11 1L8.5 8.5l.94-2.06 2.06-.94-2.06-.94L8.5 2.5l-.94 2.06-2.06.94zm10 10l.94 2.06.94-2.06 2.06-.94-2.06-.94-.94-2.06-.94 2.06-2.06.94z\"/><path d=\"M17.41 7.96l-1.37-1.37c-.4-.4-.92-.59-1.43-.59-.52 0-1.04.2-1.43.59L10.3 9.45l-7.72 7.72c-.78.78-.78 2.05 0 2.83L4 21.41c.39.39.9.59 1.41.59.51 0 1.02-.2 1.41-.59l7.78-7.78 2.81-2.81c.8-.78.8-2.07 0-2.86zM5.41 20L4 18.59l7.72-7.72 1.47 1.35L5.41 20z\"/>\n",
              "  </svg>\n",
              "      </button>\n",
              "      \n",
              "  <style>\n",
              "    .colab-df-container {\n",
              "      display:flex;\n",
              "      flex-wrap:wrap;\n",
              "      gap: 12px;\n",
              "    }\n",
              "\n",
              "    .colab-df-convert {\n",
              "      background-color: #E8F0FE;\n",
              "      border: none;\n",
              "      border-radius: 50%;\n",
              "      cursor: pointer;\n",
              "      display: none;\n",
              "      fill: #1967D2;\n",
              "      height: 32px;\n",
              "      padding: 0 0 0 0;\n",
              "      width: 32px;\n",
              "    }\n",
              "\n",
              "    .colab-df-convert:hover {\n",
              "      background-color: #E2EBFA;\n",
              "      box-shadow: 0px 1px 2px rgba(60, 64, 67, 0.3), 0px 1px 3px 1px rgba(60, 64, 67, 0.15);\n",
              "      fill: #174EA6;\n",
              "    }\n",
              "\n",
              "    [theme=dark] .colab-df-convert {\n",
              "      background-color: #3B4455;\n",
              "      fill: #D2E3FC;\n",
              "    }\n",
              "\n",
              "    [theme=dark] .colab-df-convert:hover {\n",
              "      background-color: #434B5C;\n",
              "      box-shadow: 0px 1px 3px 1px rgba(0, 0, 0, 0.15);\n",
              "      filter: drop-shadow(0px 1px 2px rgba(0, 0, 0, 0.3));\n",
              "      fill: #FFFFFF;\n",
              "    }\n",
              "  </style>\n",
              "\n",
              "      <script>\n",
              "        const buttonEl =\n",
              "          document.querySelector('#df-bd34f1d4-8895-48b2-81a4-c2764cfd449f button.colab-df-convert');\n",
              "        buttonEl.style.display =\n",
              "          google.colab.kernel.accessAllowed ? 'block' : 'none';\n",
              "\n",
              "        async function convertToInteractive(key) {\n",
              "          const element = document.querySelector('#df-bd34f1d4-8895-48b2-81a4-c2764cfd449f');\n",
              "          const dataTable =\n",
              "            await google.colab.kernel.invokeFunction('convertToInteractive',\n",
              "                                                     [key], {});\n",
              "          if (!dataTable) return;\n",
              "\n",
              "          const docLinkHtml = 'Like what you see? Visit the ' +\n",
              "            '<a target=\"_blank\" href=https://colab.research.google.com/notebooks/data_table.ipynb>data table notebook</a>'\n",
              "            + ' to learn more about interactive tables.';\n",
              "          element.innerHTML = '';\n",
              "          dataTable['output_type'] = 'display_data';\n",
              "          await google.colab.output.renderOutput(dataTable, element);\n",
              "          const docLink = document.createElement('div');\n",
              "          docLink.innerHTML = docLinkHtml;\n",
              "          element.appendChild(docLink);\n",
              "        }\n",
              "      </script>\n",
              "    </div>\n",
              "  </div>\n",
              "  "
            ],
            "text/plain": [
              "    classname               img\n",
              "725        c0  c0/img_10206.jpg\n",
              "726        c0  c0/img_27079.jpg\n",
              "727        c0  c0/img_50749.jpg\n",
              "728        c0  c0/img_97089.jpg\n",
              "729        c0  c0/img_37741.jpg"
            ]
          },
          "metadata": {},
          "execution_count": 19
        }
      ]
    },
    {
      "cell_type": "code",
      "source": [
        "\n",
        "# Image data generator accepts the original data, randomly transforms it, and returns only the new, transformed data\n",
        "# rescale = normalizes the pixel value\n",
        "# validation split = 0.25 , that means 25% of the data is being used for validation\n",
        "datagen=ImageDataGenerator(rescale=1./255.,validation_split=0.25)\n",
        "\n",
        "# datagen.flow_from_dataframe = it is a object of image data generator which takes data from a data frame\n",
        "# directory = it is the path to the directory that contains all the dataset\n",
        "# x_col = column that contains all the image files\n",
        "# y_col = column that has the class name (c0,c1, c2.....)\n",
        "# subset = to specify it as training or validation\n",
        "# batch size = number of data point in a particular batch\n",
        "# seed = to generate same random set each time\n",
        "# class_mode = for training and validation - is categorical- it gives 2D output//for test generator it is set to none so that it returns images\n",
        "# shuffle = True for train and validation /// for Test generator, shuffle = False, because we need the images in order to predict output and simulatneously match them with their unique IDs\n",
        "# target size = size of the output image\n",
        "\n",
        "train_generator=datagen.flow_from_dataframe(\n",
        "  dataframe=train,\n",
        "  directory=\"/content/imgs/train\",\n",
        "  x_col=\"img\",\n",
        "  y_col=\"classname\",\n",
        "  subset=\"training\",\n",
        "  batch_size=32,\n",
        "  seed=42,\n",
        "  shuffle=True,\n",
        "  class_mode=\"categorical\",\n",
        "  target_size=(256,256)\n",
        "  )\n",
        "\n",
        "valid_generator=datagen.flow_from_dataframe(\n",
        "  dataframe=train,\n",
        "  directory=\"/content/imgs/train\",\n",
        "  x_col=\"img\",\n",
        "  y_col=\"classname\",\n",
        "  subset=\"validation\",\n",
        "  batch_size=32,\n",
        "  seed=42,\n",
        "  shuffle=True,\n",
        "  class_mode=\"categorical\",\n",
        "  target_size=(256,256)\n",
        "  )\n",
        "\n",
        "test_datagen=ImageDataGenerator(rescale=1./255.)\n",
        "\n",
        "test_generator=test_datagen.flow_from_dataframe(\n",
        "  dataframe=test,\n",
        "  directory=\"/content/imgs/train\",\n",
        "  x_col=\"img\",\n",
        "  y_col=None,\n",
        "  batch_size=32,\n",
        "  seed=42,\n",
        "  shuffle=False, # shuffle = False, because we need the images in order to predict output and simulatneously match them with their unique IDs\n",
        "  class_mode=None,\n",
        "  target_size=(256,256)\n",
        "  )"
      ],
      "metadata": {
        "colab": {
          "base_uri": "https://localhost:8080/"
        },
        "id": "0_rpX06RAehl",
        "outputId": "75577ed3-1483-446e-fcf8-c1b582f7e0f7"
      },
      "execution_count": null,
      "outputs": [
        {
          "output_type": "stream",
          "name": "stdout",
          "text": [
            "Found 14409 validated image filenames belonging to 10 classes.\n",
            "Found 4803 validated image filenames belonging to 10 classes.\n",
            "Found 3212 validated image filenames.\n"
          ]
        }
      ]
    },
    {
      "cell_type": "code",
      "source": [
        ""
      ],
      "metadata": {
        "id": "eceDCeqnS9Vu"
      },
      "execution_count": null,
      "outputs": []
    },
    {
      "cell_type": "code",
      "source": [
        ""
      ],
      "metadata": {
        "id": "574oeeKVS9DC"
      },
      "execution_count": null,
      "outputs": []
    },
    {
      "cell_type": "markdown",
      "source": [
        "- Using CNN  Model:\n",
        "\n",
        "For this project we are using CNN for image classifcation. We are given a dataset of 2D dashboard camera images, so our first choice was CNN as it requires very little pre-processing, meaning that it can read 2D images by applying filters. \n",
        "\n",
        "The hidden layers comprise convolutional layers, ReLU activation function, pooling layers, and fully connected layers, all of which play a crucial role. "
      ],
      "metadata": {
        "id": "XpV4AhPmTLzh"
      }
    },
    {
      "cell_type": "markdown",
      "source": [
        "Here we have an input layer, an output layer, and hidden layers, all of which help process and classify images. \n",
        "Architecture of CNN:\n",
        "Here we are using sequential model() as it helps to build a model layer by layer.\n",
        "add() function is used to add layers to our models.\n",
        "The Conv2D layers are convolution layers. It deals with our input images, which are seen as 2-dimensional matrices.\n",
        "We use padding = ‘same’ which ensures that the output has the same size as the input.\n",
        "This layer also has an input shape parameter. This is the shape of each input image, 256,256,3 with the 3 signifying that the images are RGB.\n",
        "\n",
        "Activation Function adds non-linearity to the network. The activation function used here is ReLu activation function. It is efficient and easy for computation. With ReLu, all the negative values are removed, and the accuracy of the image is increased.\n",
        "Now we have the pooling layer. It helps in controlling the overfitting of the model. We are using max pooling. It is the process of merging. It helps to extracte the features that are highly important or that are dominant or high lighted in the image. It identifies the largest element, that is, it recognizes the maximum value in each area and thus the image becomes smaller as all the extra information is not considered by the model.\n",
        "\n",
        "Then we have our drop out layer. It prevents the network from overfitting. \n",
        "It deactivates the nodes so that they don't have any effect on the output.\n",
        "The input to the dense layer should be in 1 dimensional array. So we use the flatten layer to convert the data in to 1 dimensional vector making it suitable for input to the next layer. \n",
        "\n",
        "In dense layer each neuron receives input from all the neurons from the preceding layer. This layer can’t have a multidimensional array as an input so flatten layer is used before this layer to get the input in this layer as 1-D array.\n",
        "This dense layer has softmax activation function. Softmax converts a vector of value to a probability distribution. This function is used for multiclass classification problems. This function here has 10 units (10 neurons). Each of these neurons represent one class as c0, c1, c2 and so on till c9. All these 10 neurons return respective probabilities for the input image. The class which will have the highest probability will be considered as the output for that image.\n",
        "Then we are configuring the model for training using model.compile(). We are using optimizers to get results faster. We are using RMSprop optimizer ((Root Mean Squared Propagation- it implements RMSprop algorithm). It decreases the number of function evaluations and improves speed and performance for training a specific model.\n",
        "Here we are considering a learning rate of 0.0001. It helps in configuring our network. When model weights are updated, it helps to control change to the model for the estimated error.\n",
        "Decay helps to slowly reduce or decay the learning rate so that at the end of the training a local minimum is reached.\n",
        "We have a loss function = Categorical cross entropy, that is used when we have a multiclass classification problem.\n",
        "Note: SoftMax activation function is recommended to use, when we are using categorical cross entropy function.\n",
        "\n",
        "\n"
      ],
      "metadata": {
        "id": "UsNRdoXBATPZ"
      }
    },
    {
      "cell_type": "code",
      "source": [
        "# model architecture\n",
        "\n",
        "model = Sequential() # initializing sequential API\n",
        "model.add(Conv2D(32, (3, 3), padding='same', # Convolutional layer with 32 filters of size 3*3 and padding as same, and input shape as 256*256 wth 3 channels\n",
        "                 input_shape=(256,256,3)))\n",
        "model.add(Activation('relu')) # ReLu as activation function\n",
        "model.add(Conv2D(32, (3, 3)))\n",
        "model.add(Activation('relu'))\n",
        "model.add(MaxPooling2D(pool_size=(2, 2))) # Maxpool of sliding window 2*2\n",
        "model.add(Dropout(0.25)) # deactivating 25% of the nodes\n",
        "model.add(Conv2D(64, (3, 3), padding='same')) \n",
        "model.add(Activation('relu'))\n",
        "model.add(Conv2D(64, (3, 3)))\n",
        "model.add(Activation('relu'))\n",
        "model.add(MaxPooling2D(pool_size=(2, 2)))\n",
        "model.add(Dropout(0.25))\n",
        "model.add(Flatten()) # flattening(1-D) the output of the previous layer making it suitable for dense layer\n",
        "model.add(Dense(512)) # fully connected layer with 512 nodes to learn from the features extracted by previous layers\n",
        "model.add(Activation('relu'))\n",
        "model.add(Dropout(0.5))\n",
        "model.add(Dense(10, activation='softmax')) # output layer with 10 nodes, activation function as softmax becuase its a multi class classification problem\n",
        "\n",
        "# Using optimizer as RMS prop with learning rate= 0.0001 and decay rate = 1e-6, loss= categorical cross entropy as it is a multi class classification problem,\n",
        "# and evaluation metrics = accuracy as it is easy to interpret when comparing multiple models.\n",
        "model.compile(tf.keras.optimizers.RMSprop(learning_rate=0.0001, decay=1e-6),loss=\"categorical_crossentropy\",metrics=[\"accuracy\"]) \n",
        "\n"
      ],
      "metadata": {
        "id": "0MG2i3cOAefc"
      },
      "execution_count": null,
      "outputs": []
    },
    {
      "cell_type": "code",
      "source": [
        "# early stopping helps to Stop a training when a monitored metric has stopped improving.\n",
        "# monitor is the quantity that needs to be monitored to end training. \n",
        "# val_loss is for the loss on the validation dataset.\n",
        "# min_delta is the minimum change in the monitored quantity to be considered as an improvement. Any change less than min_delta, will count as no improvement.\n",
        "# patience: It specifies number of epochs after which the  training will be stopped if there is no improvement\n",
        "# model checkpoint - used to save a model at a some interval.\n",
        "earlystopping = tf.keras.callbacks.EarlyStopping(\n",
        "    monitor='val_loss', min_delta=0, patience=4,\n",
        ")\n",
        "\n",
        "modelcheckpoint = tf.keras.callbacks.ModelCheckpoint(\"/content/drive/MyDrive/distracted_driv_data/model/model.h5\",\n",
        "    monitor=\"val_loss\")\n",
        "callbacks = [earlystopping, modelcheckpoint]"
      ],
      "metadata": {
        "id": "BZvJsznDjpKT"
      },
      "execution_count": null,
      "outputs": []
    },
    {
      "cell_type": "code",
      "source": [
        "#STEP_SIZE_TRAIN=train_generator.n//train_generator.batch_size\n",
        "#STEP_SIZE_VALID=valid_generator.n//valid_generator.batch_size\n",
        "#STEP_SIZE_TEST=test_generator.n//test_generator.batch_size\n",
        "\n",
        "# fitting the model using train generator\n",
        "\n",
        "history = model.fit(train_generator,\n",
        "                    steps_per_epoch=train_generator.n//train_generator.batch_size,\n",
        "                    validation_data=valid_generator,\n",
        "                    validation_steps=valid_generator.n//valid_generator.batch_size,\n",
        "                    epochs=10, # epochs = training the model 10 times\n",
        "                    callbacks = callbacks)\n",
        "\n",
        "\n"
      ],
      "metadata": {
        "colab": {
          "base_uri": "https://localhost:8080/"
        },
        "id": "xHPSuO-7AedO",
        "outputId": "897f773a-0d12-4edc-de38-f21b675faa0a"
      },
      "execution_count": null,
      "outputs": [
        {
          "output_type": "stream",
          "name": "stdout",
          "text": [
            "Epoch 1/10\n",
            "450/450 [==============================] - 150s 306ms/step - loss: 0.8122 - accuracy: 0.7344 - val_loss: 5.5131 - val_accuracy: 0.1890\n",
            "Epoch 2/10\n",
            "450/450 [==============================] - 136s 302ms/step - loss: 0.1037 - accuracy: 0.9702 - val_loss: 6.0195 - val_accuracy: 0.1619\n",
            "Epoch 3/10\n",
            "450/450 [==============================] - 136s 302ms/step - loss: 0.0472 - accuracy: 0.9871 - val_loss: 7.9225 - val_accuracy: 0.1635\n",
            "Epoch 4/10\n",
            "450/450 [==============================] - 134s 298ms/step - loss: 0.0310 - accuracy: 0.9907 - val_loss: 9.7968 - val_accuracy: 0.1500\n",
            "Epoch 5/10\n",
            "450/450 [==============================] - 134s 297ms/step - loss: 0.0192 - accuracy: 0.9946 - val_loss: 10.6618 - val_accuracy: 0.1615\n"
          ]
        }
      ]
    },
    {
      "cell_type": "code",
      "source": [
        "fig, axes = plt.subplots(1, 2, figsize= (10, 5))\n",
        "axes[0].plot(range(1, len(history.history['accuracy']) + 1), history.history['accuracy'], linestyle ='solid', marker= 'o', color = 'crimson', label = 'Training Accuracy')\n",
        "axes[0].plot(range(1, len(history.history['val_accuracy']) + 1), history.history['val_accuracy'], linestyle ='solid', marker= 'o', color = 'dodgerblue', label ='Testing Accuracy')\n",
        "axes[0].set_xlabel('Epochs', fontsize =14)\n",
        "axes[0].set_ylabel('Accuracy',fontsize= 14)\n",
        "axes[0].set_title('CNN Dropout Accuracy Trainig VS Testing', fontsize = 14)\n",
        "axes[0].legend(loc= 'best')\n",
        "axes[1].plot(range(1, len(history.history['loss']) + 1), history.history['loss'], linestyle ='solid', marker= 'o', color = 'crimson', label = 'Training Loss')\n",
        "axes[1].plot(range(1, len(history.history['val_loss']) + 1), history.history['val_loss'], linestyle ='solid', marker= 'o', color = 'dodgerblue', label ='Testing Loss')\n",
        "axes[1].set_xlabel('Epochs', fontsize =14)\n",
        "axes[1].set_ylabel('Loss',fontsize= 14)\n",
        "axes[1].set_title('CNN Dropout Loss Trainig VS Testing', fontsize = 14)\n",
        "axes[1].legend(loc= 'best')\n",
        "plt.show()"
      ],
      "metadata": {
        "id": "wMZUmXqM0Cnk",
        "colab": {
          "base_uri": "https://localhost:8080/",
          "height": 355
        },
        "outputId": "a95b7bb8-292b-4d92-b599-db341b04f4ff"
      },
      "execution_count": null,
      "outputs": [
        {
          "output_type": "display_data",
          "data": {
            "image/png": "[encoded data removed]",
            "text/plain": [
              "<Figure size 720x360 with 2 Axes>"
            ]
          },
          "metadata": {
            "needs_background": "light"
          }
        }
      ]
    },
    {
      "cell_type": "code",
      "source": [
        ""
      ],
      "metadata": {
        "id": "BRhrjtn50CkI"
      },
      "execution_count": null,
      "outputs": []
    },
    {
      "cell_type": "code",
      "source": [
        "earlystopping1 = tf.keras.callbacks.EarlyStopping(\n",
        "    monitor='val_loss', min_delta=0, patience=4,\n",
        ")\n",
        "\n",
        "modelcheckpoint1 = tf.keras.callbacks.ModelCheckpoint(\"/content/drive/MyDrive/distracted_driv_data/model/model1.h5\",\n",
        "    monitor=\"val_loss\")\n",
        "callbacks1 = [earlystopping1, modelcheckpoint1]"
      ],
      "metadata": {
        "id": "l4BqUmy2O5Xt"
      },
      "execution_count": null,
      "outputs": []
    },
    {
      "cell_type": "markdown",
      "source": [
        "Here we will be using transfer learning. It is method to take a model that is already trained on a large dataset and then we tranfer its knowledge to a smalller dataset. \n",
        "It improves the efficiency when we are training new models.\n",
        "Here we will be using VGG16 model architecture, this was used for imagenet dataset."
      ],
      "metadata": {
        "id": "ZoSaLuOPe_Ua"
      }
    },
    {
      "cell_type": "code",
      "source": [
        "# Transfer Learning\n",
        "# Weights = Imagenet ?????????????? what are weights?\n",
        "# the input layer for this model is is the output of the base model.\n",
        "# input_shape we are specifying here is (256,256)\n",
        "# Initializers are used to set the initial random weight for the layers\n",
        "# we are using he normal initializer\n",
        "#...........................................................................\n",
        "# It draws samples from a truncated normal distribution centered on 0 with stddev = sqrt(2 / fan_in) where fan_in is the number of input units in the weight tensor.........\n",
        "# ........................................................................\n",
        "# include_to means whether to include the 3 fully-connected layers at the top of the network.\n",
        "# We have specified input layer as false so we need to specify the input shape. Here we have input shape as (256,256,3) - that is the width , height and 3 input channels.\n",
        "# Maxpooling is used for feature extraction\n",
        "# kernel size - specifies the height and the width.\n",
        "# strides = Specifies the amount by which the filter shifts. \n",
        "# we are using adam Adam optimizer(Adaptive Moment Estimation) - it implements the adam algorithm. It is appropriate for non-stationary objects.\n",
        "# Adam optimizer involves a combination of two gradient descent methodologies: 1) Momentum, 2)Root Mean Square Propagation (RMSP).\n",
        "# It takes up the positive attribtes from these two methods and builds a more optimized gradient decsent.\n",
        "\n",
        "\n",
        "\n",
        "\n",
        "tf.keras.backend.clear_session()\n",
        "base_model = VGG16(weights='imagenet', input_shape = (256, 256, 3), include_top=False)\n",
        "input_layer = base_model.output\n",
        "\n",
        "x = Conv2D(filters=32,kernel_size=(3,3),strides=(1,1),padding='valid',activation='relu', \n",
        "          kernel_initializer=tf.keras.initializers.he_normal())(input_layer)\n",
        "x = MaxPooling2D(pool_size=(2,2),strides=(2,2),padding='valid')(x)\n",
        "x = Flatten()(x)\n",
        "x = Dense(units=30,activation='relu', kernel_initializer=tf.keras.initializers.he_normal())(x)\n",
        "x = Dense(units=30,activation='relu', kernel_initializer=tf.keras.initializers.he_normal())(x)\n",
        "Out = Dense(units=10,activation='softmax', kernel_initializer=tf.keras.initializers.he_normal())(x)\n",
        "model1 = Model(inputs = base_model.input, outputs = Out)\n",
        "\n",
        "for layer in base_model.layers:\n",
        "  layer.trainable = False;\n",
        "opt = Adam(learning_rate=0.0001)\n",
        "model1.compile(optimizer=opt, loss='categorical_crossentropy', metrics=['accuracy'])\n",
        "#model.summary()\n"
      ],
      "metadata": {
        "id": "OpYlZaCBO5Ub",
        "colab": {
          "base_uri": "https://localhost:8080/"
        },
        "outputId": "9d1b6068-0b10-408b-dd39-45915bbb020a"
      },
      "execution_count": null,
      "outputs": [
        {
          "output_type": "stream",
          "name": "stdout",
          "text": [
            "Downloading data from https://storage.googleapis.com/tensorflow/keras-applications/vgg16/vgg16_weights_tf_dim_ordering_tf_kernels_notop.h5\n",
            "58892288/58889256 [==============================] - 0s 0us/step\n",
            "58900480/58889256 [==============================] - 0s 0us/step\n"
          ]
        }
      ]
    },
    {
      "cell_type": "code",
      "source": [
        "# fitting the model\n",
        "\n",
        "history1 = model1.fit(train_generator,\n",
        "                    steps_per_epoch=train_generator.n//train_generator.batch_size,\n",
        "                    validation_data=valid_generator,\n",
        "                    validation_steps=valid_generator.n//valid_generator.batch_size,\n",
        "                    epochs=10,\n",
        "                    callbacks = callbacks1)"
      ],
      "metadata": {
        "id": "NZIK10TOO5SL",
        "colab": {
          "base_uri": "https://localhost:8080/"
        },
        "outputId": "bc2d930f-f42c-4936-9960-aae9f62bce39"
      },
      "execution_count": null,
      "outputs": [
        {
          "output_type": "stream",
          "name": "stdout",
          "text": [
            "Epoch 1/10\n",
            "450/450 [==============================] - 141s 296ms/step - loss: 1.2621 - accuracy: 0.6487 - val_loss: 2.1195 - val_accuracy: 0.3306\n",
            "Epoch 2/10\n",
            "450/450 [==============================] - 127s 283ms/step - loss: 0.2635 - accuracy: 0.9670 - val_loss: 2.1515 - val_accuracy: 0.3865\n",
            "Epoch 3/10\n",
            "450/450 [==============================] - 127s 281ms/step - loss: 0.1004 - accuracy: 0.9881 - val_loss: 2.4180 - val_accuracy: 0.3725\n",
            "Epoch 4/10\n",
            "450/450 [==============================] - 121s 269ms/step - loss: 0.0566 - accuracy: 0.9927 - val_loss: 2.4134 - val_accuracy: 0.3952\n",
            "Epoch 5/10\n",
            "450/450 [==============================] - 121s 269ms/step - loss: 0.0342 - accuracy: 0.9964 - val_loss: 2.3728 - val_accuracy: 0.3969\n"
          ]
        }
      ]
    },
    {
      "cell_type": "code",
      "source": [
        "fig, axes = plt.subplots(1, 2, figsize= (10, 5))\n",
        "axes[0].plot(range(1, len(history1.history['accuracy']) + 1), history1.history['accuracy'], linestyle ='solid', marker= 'o', color = 'crimson', label = 'Training Accuracy')\n",
        "axes[0].plot(range(1, len(history1.history['val_accuracy']) + 1), history1.history['val_accuracy'], linestyle ='solid', marker= 'o', color = 'dodgerblue', label ='Testing Accuracy')\n",
        "axes[0].set_xlabel('Epochs', fontsize =14)\n",
        "axes[0].set_ylabel('Accuracy',fontsize= 14)\n",
        "axes[0].set_title('CNN Dropout Accuracy Trainig VS Testing', fontsize = 14)\n",
        "axes[0].legend(loc= 'best')\n",
        "axes[1].plot(range(1, len(history1.history['loss']) + 1), history1.history['loss'], linestyle ='solid', marker= 'o', color = 'crimson', label = 'Training Loss')\n",
        "axes[1].plot(range(1, len(history1.history['val_loss']) + 1), history1.history['val_loss'], linestyle ='solid', marker= 'o', color = 'dodgerblue', label ='Testing Loss')\n",
        "axes[1].set_xlabel('Epochs', fontsize =14)\n",
        "axes[1].set_ylabel('Loss',fontsize= 14)\n",
        "axes[1].set_title('CNN Dropout Loss Trainig VS Testing', fontsize = 14)\n",
        "axes[1].legend(loc= 'best')\n",
        "plt.show()"
      ],
      "metadata": {
        "colab": {
          "base_uri": "https://localhost:8080/",
          "height": 355
        },
        "id": "-FMZjV4uRk9J",
        "outputId": "a7c7d2d4-ff2b-42ba-8480-9a3109998172"
      },
      "execution_count": null,
      "outputs": [
        {
          "output_type": "display_data",
          "data": {
            "image/png": "[encoded data removed]",
            "text/plain": [
              "<Figure size 720x360 with 2 Axes>"
            ]
          },
          "metadata": {
            "needs_background": "light"
          }
        }
      ]
    },
    {
      "cell_type": "code",
      "source": [
        ""
      ],
      "metadata": {
        "id": "ahoJfS7xRkqZ"
      },
      "execution_count": null,
      "outputs": []
    },
    {
      "cell_type": "code",
      "source": [
        ""
      ],
      "metadata": {
        "id": "xkzctwRRRkm8"
      },
      "execution_count": null,
      "outputs": []
    },
    {
      "cell_type": "code",
      "source": [
        "## Transfer Learning 2\n",
        "\n",
        "earlystopping2 = tf.keras.callbacks.EarlyStopping(\n",
        "    monitor='val_loss', min_delta=0, patience=4,\n",
        ")\n",
        "\n",
        "modelcheckpoint2 = tf.keras.callbacks.ModelCheckpoint(\"/content/drive/MyDrive/distracted_driv_data/model/model2.h5\",\n",
        "    monitor=\"val_loss\")\n",
        "callbacks2 = [earlystopping2, modelcheckpoint2]"
      ],
      "metadata": {
        "id": "5Za4dJ_bO5Pf"
      },
      "execution_count": null,
      "outputs": []
    },
    {
      "cell_type": "markdown",
      "source": [
        "Inception V3  is a well known image recognition model, and it has been used on Imagenet Dataset and has been shown to have achieved greater than 78% accuracy."
      ],
      "metadata": {
        "id": "9S4Sc5TAxe4e"
      }
    },
    {
      "cell_type": "code",
      "source": [
        "#Here we are using SGD optimizer-  Gradient descent (with momentum) optimizer.\n",
        "\n",
        "\n",
        "tf.keras.backend.clear_session()\n",
        "base_model = InceptionV3(weights='imagenet', input_shape = (256, 256, 3), include_top=False)\n",
        "input_layer = base_model.output\n",
        "\n",
        "x = Conv2D(filters=32,kernel_size=(3,3),strides=(1,1),padding='valid',activation='relu', \n",
        "          kernel_initializer=GlorotNormal())(input_layer)\n",
        "x = MaxPooling2D(pool_size=(2,2),strides=(2,2),padding='valid')(x)\n",
        "x = Flatten()(x)\n",
        "x = Dense(units=30,activation='relu', kernel_initializer=GlorotNormal())(x)\n",
        "x = Dense(units=30,activation='relu', kernel_initializer=GlorotNormal())(x)\n",
        "Out = Dense(units=10,activation='softmax', kernel_initializer=GlorotNormal())(x)\n",
        "model2 = Model(inputs = base_model.input, outputs = Out)\n",
        "\n",
        "for layer in base_model.layers:\n",
        "  layer.trainable = False;\n",
        "opt = SGD(learning_rate=0.0001)\n",
        "model2.compile(optimizer=opt, loss='categorical_crossentropy', metrics=['accuracy'])\n",
        "#model.summary()"
      ],
      "metadata": {
        "id": "-_LtOiGcO5NM",
        "colab": {
          "base_uri": "https://localhost:8080/"
        },
        "outputId": "5c2b828b-3b6a-48aa-f028-7709b452b947"
      },
      "execution_count": null,
      "outputs": [
        {
          "output_type": "stream",
          "name": "stdout",
          "text": [
            "Downloading data from https://storage.googleapis.com/tensorflow/keras-applications/inception_v3/inception_v3_weights_tf_dim_ordering_tf_kernels_notop.h5\n",
            "87916544/87910968 [==============================] - 1s 0us/step\n",
            "87924736/87910968 [==============================] - 1s 0us/step\n"
          ]
        }
      ]
    },
    {
      "cell_type": "code",
      "source": [
        "# fitting the model\n",
        "\n",
        "history2 = model2.fit(train_generator,\n",
        "                    steps_per_epoch=train_generator.n//train_generator.batch_size,\n",
        "                    validation_data=valid_generator,\n",
        "                    validation_steps=valid_generator.n//valid_generator.batch_size,\n",
        "                    epochs=10,\n",
        "                    callbacks = callbacks2)"
      ],
      "metadata": {
        "id": "mewrj1jY5JX6",
        "colab": {
          "base_uri": "https://localhost:8080/"
        },
        "outputId": "1371fc4c-a65f-4e86-9bc5-8be485931b64"
      },
      "execution_count": null,
      "outputs": [
        {
          "output_type": "stream",
          "name": "stdout",
          "text": [
            "Epoch 1/10\n",
            "450/450 [==============================] - 131s 278ms/step - loss: 2.2201 - accuracy: 0.1893 - val_loss: 2.3549 - val_accuracy: 0.1700\n",
            "Epoch 2/10\n",
            "450/450 [==============================] - 120s 266ms/step - loss: 1.9020 - accuracy: 0.3347 - val_loss: 2.3926 - val_accuracy: 0.2004\n",
            "Epoch 3/10\n",
            "450/450 [==============================] - 118s 261ms/step - loss: 1.6283 - accuracy: 0.4694 - val_loss: 2.4530 - val_accuracy: 0.2138\n",
            "Epoch 4/10\n",
            "450/450 [==============================] - 112s 249ms/step - loss: 1.3639 - accuracy: 0.5885 - val_loss: 2.4605 - val_accuracy: 0.2229\n",
            "Epoch 5/10\n",
            "450/450 [==============================] - 118s 262ms/step - loss: 1.1286 - accuracy: 0.6937 - val_loss: 2.4790 - val_accuracy: 0.2469\n"
          ]
        }
      ]
    },
    {
      "cell_type": "code",
      "source": [
        "fig, axes = plt.subplots(1, 2, figsize= (10, 5))\n",
        "axes[0].plot(range(1, len(history2.history['accuracy']) + 1), history2.history['accuracy'], linestyle ='solid', marker= 'o', color = 'crimson', label = 'Training Accuracy')\n",
        "axes[0].plot(range(1, len(history2.history['val_accuracy']) + 1), history2.history['val_accuracy'], linestyle ='solid', marker= 'o', color = 'dodgerblue', label ='Testing Accuracy')\n",
        "axes[0].set_xlabel('Epochs', fontsize =14)\n",
        "axes[0].set_ylabel('Accuracy',fontsize= 14)\n",
        "axes[0].set_title('CNN Dropout Accuracy Trainig VS Testing', fontsize = 14)\n",
        "axes[0].legend(loc= 'best')\n",
        "axes[1].plot(range(1, len(history2.history['loss']) + 1), history2.history['loss'], linestyle ='solid', marker= 'o', color = 'crimson', label = 'Training Loss')\n",
        "axes[1].plot(range(1, len(history2.history['val_loss']) + 1), history2.history['val_loss'], linestyle ='solid', marker= 'o', color = 'dodgerblue', label ='Testing Loss')\n",
        "axes[1].set_xlabel('Epochs', fontsize =14)\n",
        "axes[1].set_ylabel('Loss',fontsize= 14)\n",
        "axes[1].set_title('CNN Dropout Loss Trainig VS Testing', fontsize = 14)\n",
        "axes[1].legend(loc= 'best')\n",
        "plt.show()"
      ],
      "metadata": {
        "colab": {
          "base_uri": "https://localhost:8080/",
          "height": 355
        },
        "id": "LWzPVfzaWbdX",
        "outputId": "0583a462-1e5a-4ccd-c7c7-6a0eccdd93ce"
      },
      "execution_count": null,
      "outputs": [
        {
          "output_type": "display_data",
          "data": {
            "image/png": "[encoded data removed]",
            "text/plain": [
              "<Figure size 720x360 with 2 Axes>"
            ]
          },
          "metadata": {
            "needs_background": "light"
          }
        }
      ]
    },
    {
      "cell_type": "code",
      "source": [
        "# Testing\n",
        "\n",
        "test_model = load_model(\"/content/drive/MyDrive/distracted_driv_data/model/model.h5\")\n",
        "\n",
        "\n",
        "#img = io.imread()\n",
        "#img = transform.resize(img, (256, 256, 3))\n",
        "#img1 = np.expand_dims(img, axis=0)\n",
        "output = test_model.predict(test_generator)"
      ],
      "metadata": {
        "id": "FCOSqMfM5JUh"
      },
      "execution_count": null,
      "outputs": []
    },
    {
      "cell_type": "code",
      "source": [
        "#score = model.evaluate(x_test, y_test, verbose=0)\n",
        "#print('Summary: Loss over the test dataset: %.2f, Accuracy: %.2f' % (score[0], score[1]))"
      ],
      "metadata": {
        "id": "QmqCIX6VDV79"
      },
      "execution_count": null,
      "outputs": []
    },
    {
      "cell_type": "code",
      "source": [
        ""
      ],
      "metadata": {
        "id": "GXxpvcriDV4a"
      },
      "execution_count": null,
      "outputs": []
    },
    {
      "cell_type": "code",
      "source": [
        "y_classes = np.array(output.argmax(axis=-1))"
      ],
      "metadata": {
        "id": "HcnpgcrI5JRZ"
      },
      "execution_count": null,
      "outputs": []
    },
    {
      "cell_type": "code",
      "source": [
        "y_classes = y_classes.astype(np.str)"
      ],
      "metadata": {
        "id": "ohT6lK8sCmce"
      },
      "execution_count": null,
      "outputs": []
    },
    {
      "cell_type": "code",
      "source": [
        "for i in range (len(y_classes)):\n",
        "  y_classes[i] = str(\"c\") + y_classes[i]"
      ],
      "metadata": {
        "id": "blYvV8pyHOan"
      },
      "execution_count": null,
      "outputs": []
    },
    {
      "cell_type": "code",
      "source": [
        "y_classes[:50]"
      ],
      "metadata": {
        "id": "QLtxyRDDI6kk",
        "colab": {
          "base_uri": "https://localhost:8080/"
        },
        "outputId": "c2c68c44-0de6-4383-fdce-e511ded72a12"
      },
      "execution_count": null,
      "outputs": [
        {
          "output_type": "execute_result",
          "data": {
            "text/plain": [
              "array(['c0', 'c0', 'c0', 'c0', 'c0', 'c0', 'c0', 'c0', 'c0', 'c0', 'c0',\n",
              "       'c0', 'c0', 'c0', 'c0', 'c0', 'c0', 'c0', 'c0', 'c0', 'c6', 'c0',\n",
              "       'c0', 'c0', 'c0', 'c0', 'c0', 'c0', 'c0', 'c0', 'c0', 'c0', 'c0',\n",
              "       'c0', 'c0', 'c0', 'c0', 'c0', 'c0', 'c0', 'c0', 'c0', 'c0', 'c0',\n",
              "       'c0', 'c0', 'c0', 'c0', 'c0', 'c0'], dtype='<U21')"
            ]
          },
          "metadata": {},
          "execution_count": 39
        }
      ]
    },
    {
      "cell_type": "code",
      "source": [
        "test[\"classname\"]"
      ],
      "metadata": {
        "id": "CDH4H1gRI6g8",
        "colab": {
          "base_uri": "https://localhost:8080/"
        },
        "outputId": "22e3a4d1-0796-4eaf-adff-18d2bb93c639"
      },
      "execution_count": null,
      "outputs": [
        {
          "output_type": "execute_result",
          "data": {
            "text/plain": [
              "0        c0\n",
              "1        c0\n",
              "2        c0\n",
              "3        c0\n",
              "4        c0\n",
              "         ..\n",
              "20436    c9\n",
              "20437    c9\n",
              "20438    c9\n",
              "20439    c9\n",
              "20440    c9\n",
              "Name: classname, Length: 3212, dtype: object"
            ]
          },
          "metadata": {},
          "execution_count": 40
        }
      ]
    },
    {
      "cell_type": "code",
      "source": [
        "len(y_classes)"
      ],
      "metadata": {
        "id": "Fb3_POE6JIyY",
        "colab": {
          "base_uri": "https://localhost:8080/"
        },
        "outputId": "e2602746-1b24-4ea8-e93c-e5019223dc97"
      },
      "execution_count": null,
      "outputs": [
        {
          "output_type": "execute_result",
          "data": {
            "text/plain": [
              "3212"
            ]
          },
          "metadata": {},
          "execution_count": 41
        }
      ]
    },
    {
      "cell_type": "code",
      "source": [
        "\n",
        "len(test)"
      ],
      "metadata": {
        "id": "vajfYTJ2JOIp",
        "colab": {
          "base_uri": "https://localhost:8080/"
        },
        "outputId": "2cff7617-e0e6-4928-c78f-20be06a338de"
      },
      "execution_count": null,
      "outputs": [
        {
          "output_type": "execute_result",
          "data": {
            "text/plain": [
              "3212"
            ]
          },
          "metadata": {},
          "execution_count": 42
        }
      ]
    },
    {
      "cell_type": "code",
      "source": [
        "metrics.accuracy_score(test[\"classname\"],y_classes)"
      ],
      "metadata": {
        "id": "xB95RFgBF143",
        "colab": {
          "base_uri": "https://localhost:8080/"
        },
        "outputId": "0a6c3971-02ab-437a-c0fc-99b4f89ce9be"
      },
      "execution_count": null,
      "outputs": [
        {
          "output_type": "execute_result",
          "data": {
            "text/plain": [
              "0.5084059775840598"
            ]
          },
          "metadata": {},
          "execution_count": 43
        }
      ]
    },
    {
      "cell_type": "code",
      "source": [
        "# Model 2 test\n",
        "test_model1 = load_model(\"/content/drive/MyDrive/distracted_driv_data/model/model1.h5\")\n",
        "\n",
        "output1 = test_model1.predict(test_generator)\n"
      ],
      "metadata": {
        "id": "uN3x2Ir5F11d"
      },
      "execution_count": null,
      "outputs": []
    },
    {
      "cell_type": "code",
      "source": [
        "y_classes1 = np.array(output1.argmax(axis=-1))\n",
        "y_classes1 = y_classes1.astype(np.str)\n",
        "for i in range (len(y_classes1)):\n",
        "  y_classes1[i] = str(\"c\") + y_classes1[i]\n",
        "\n",
        "y_classes1[:50]"
      ],
      "metadata": {
        "id": "qyJ_QLtCdIix",
        "colab": {
          "base_uri": "https://localhost:8080/"
        },
        "outputId": "6a764987-c9b3-46cd-f62f-2d2c17e59fd9"
      },
      "execution_count": null,
      "outputs": [
        {
          "output_type": "execute_result",
          "data": {
            "text/plain": [
              "array(['c0', 'c0', 'c5', 'c0', 'c0', 'c0', 'c0', 'c0', 'c0', 'c0', 'c0',\n",
              "       'c5', 'c5', 'c5', 'c5', 'c5', 'c5', 'c5', 'c5', 'c0', 'c4', 'c5',\n",
              "       'c5', 'c5', 'c5', 'c5', 'c5', 'c5', 'c5', 'c5', 'c5', 'c5', 'c5',\n",
              "       'c0', 'c5', 'c5', 'c5', 'c0', 'c0', 'c0', 'c0', 'c0', 'c0', 'c0',\n",
              "       'c5', 'c5', 'c5', 'c5', 'c5', 'c5'], dtype='<U21')"
            ]
          },
          "metadata": {},
          "execution_count": 45
        }
      ]
    },
    {
      "cell_type": "code",
      "source": [
        "metrics.accuracy_score(test[\"classname\"],y_classes1)"
      ],
      "metadata": {
        "id": "KWzIF2OEdIfP",
        "colab": {
          "base_uri": "https://localhost:8080/"
        },
        "outputId": "d840602e-3e22-46f0-d3cd-3f357bb99770"
      },
      "execution_count": null,
      "outputs": [
        {
          "output_type": "execute_result",
          "data": {
            "text/plain": [
              "0.6413449564134496"
            ]
          },
          "metadata": {},
          "execution_count": 46
        }
      ]
    },
    {
      "cell_type": "code",
      "source": [
        "##Testing MOdel 3\n",
        "\n",
        "test_model2 = load_model(\"/content/drive/MyDrive/distracted_driv_data/model/model2.h5\")\n",
        "\n",
        "output2 = test_model2.predict(test_generator)\n"
      ],
      "metadata": {
        "id": "-1Exlw2OIn6l"
      },
      "execution_count": null,
      "outputs": []
    },
    {
      "cell_type": "code",
      "source": [
        "y_classes2 = np.array(output2.argmax(axis=-1))\n",
        "y_classes2 = y_classes2.astype(np.str)\n",
        "for i in range (len(y_classes2)):\n",
        "  y_classes2[i] = str(\"c\") + y_classes2[i]\n",
        "\n",
        "y_classes2[:50]"
      ],
      "metadata": {
        "id": "KTPY8RF_In3G",
        "colab": {
          "base_uri": "https://localhost:8080/"
        },
        "outputId": "1087338c-2f8f-4e76-e756-68fb5844540d"
      },
      "execution_count": null,
      "outputs": [
        {
          "output_type": "execute_result",
          "data": {
            "text/plain": [
              "array(['c2', 'c2', 'c2', 'c2', 'c9', 'c9', 'c9', 'c9', 'c9', 'c2', 'c2',\n",
              "       'c2', 'c2', 'c2', 'c2', 'c2', 'c2', 'c2', 'c2', 'c2', 'c2', 'c2',\n",
              "       'c2', 'c9', 'c2', 'c2', 'c2', 'c2', 'c2', 'c2', 'c2', 'c2', 'c2',\n",
              "       'c2', 'c2', 'c2', 'c2', 'c2', 'c2', 'c2', 'c2', 'c2', 'c2', 'c2',\n",
              "       'c2', 'c2', 'c2', 'c2', 'c2', 'c2'], dtype='<U21')"
            ]
          },
          "metadata": {},
          "execution_count": 48
        }
      ]
    },
    {
      "cell_type": "code",
      "source": [
        "metrics.accuracy_score(test[\"classname\"],y_classes2)"
      ],
      "metadata": {
        "id": "qLVVeHhUIn0l",
        "colab": {
          "base_uri": "https://localhost:8080/"
        },
        "outputId": "768a93e1-4940-4d98-8e94-3180e3a71c32"
      },
      "execution_count": null,
      "outputs": [
        {
          "output_type": "execute_result",
          "data": {
            "text/plain": [
              "0.3894769613947696"
            ]
          },
          "metadata": {},
          "execution_count": 49
        }
      ]
    },
    {
      "cell_type": "code",
      "source": [
        ""
      ],
      "metadata": {
        "id": "kHc3p4krdIcX"
      },
      "execution_count": null,
      "outputs": []
    },
    {
      "cell_type": "code",
      "source": [
        ""
      ],
      "metadata": {
        "id": "CQSY1NrFdIZx"
      },
      "execution_count": null,
      "outputs": []
    },
    {
      "cell_type": "code",
      "source": [
        ""
      ],
      "metadata": {
        "id": "U2qqO6n4JBrJ"
      },
      "execution_count": null,
      "outputs": []
    },
    {
      "cell_type": "code",
      "source": [
        ""
      ],
      "metadata": {
        "id": "vKxxDk06gys1"
      },
      "execution_count": null,
      "outputs": []
    },
    {
      "cell_type": "code",
      "source": [
        ""
      ],
      "metadata": {
        "id": "jCjbJjT_gymw"
      },
      "execution_count": null,
      "outputs": []
    }
  ]
}